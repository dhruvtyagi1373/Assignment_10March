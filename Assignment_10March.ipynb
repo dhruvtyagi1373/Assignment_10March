{
 "cells": [
  {
   "cell_type": "markdown",
   "id": "34799a09-b89b-4b2b-8aed-7f873dd7ffe0",
   "metadata": {},
   "source": [
    "## Q1: What is Estimation Statistics? Explain point estimate and interval estimate."
   ]
  },
  {
   "cell_type": "raw",
   "id": "c2f501ff-1164-47fb-ae35-e4f42a0f367e",
   "metadata": {},
   "source": [
    "It is a type of statistics in which specified observed value is used to estimate an unknown population paarmeter."
   ]
  },
  {
   "cell_type": "raw",
   "id": "a2caec2f-8d71-490d-9247-1de25c03683b",
   "metadata": {},
   "source": [
    "Point Estimate : Single observed value is used to estimate an unknown population perimeter"
   ]
  },
  {
   "cell_type": "raw",
   "id": "24c418bc-bdaf-4721-8a92-61b096258680",
   "metadata": {},
   "source": [
    "Interval Estimate : Range of values used to estimate an unknown population parameter."
   ]
  },
  {
   "cell_type": "markdown",
   "id": "51a339d8-2fa0-4e79-a1b6-741928167bd0",
   "metadata": {},
   "source": [
    "## Q2. Write a Python function to estimate the population mean using a sample mean and standard deviation."
   ]
  },
  {
   "cell_type": "code",
   "execution_count": null,
   "id": "56b5974f-b093-4168-9648-5d01da2c8754",
   "metadata": {},
   "outputs": [],
   "source": []
  },
  {
   "cell_type": "markdown",
   "id": "6dedf41e-11da-476a-b4b9-dfe6f17e63ea",
   "metadata": {},
   "source": [
    "## Q3: What is Hypothesis testing? Why is it used? State the importance of Hypothesis testing."
   ]
  },
  {
   "cell_type": "raw",
   "id": "8444b0b7-f685-4de5-a50a-ac830545786b",
   "metadata": {},
   "source": [
    "Hypothesis Testing is a type of statistical analysis in which you put your assumptions about a population parameter to the test. It is used to estimate the relationship between 2 statistical variables."
   ]
  },
  {
   "cell_type": "markdown",
   "id": "3bd066b6-38c1-4dbf-9947-f2b122fc55b7",
   "metadata": {},
   "source": [
    "## Q4. Create a hypothesis that states whether the average weight of male college students is greater than the average weight of female college students."
   ]
  },
  {
   "cell_type": "raw",
   "id": "e8f2f0b2-74d8-425c-9eae-0f4045bbcc91",
   "metadata": {},
   "source": [
    "1) Null Hypothesis : Average weight of male college students is greater than the average weight of female college students.\n",
    "\n",
    "2) Alternate Hypothesis :  Average weight of male college students is not greater than the average weight of female college students"
   ]
  },
  {
   "cell_type": "markdown",
   "id": "d8f992b9-8d3d-4005-99b7-7657b5a3caab",
   "metadata": {},
   "source": [
    "## Q5. Write a Python script to conduct a hypothesis test on the difference between two population means, given a sample from each population."
   ]
  },
  {
   "cell_type": "code",
   "execution_count": null,
   "id": "6d077020-fa09-4a07-968c-b6268b0ec4f4",
   "metadata": {},
   "outputs": [],
   "source": []
  },
  {
   "cell_type": "markdown",
   "id": "00685b4e-9a29-4b2e-8624-4cb3736822df",
   "metadata": {},
   "source": [
    "## Q6: What is a null and alternative hypothesis? Give some examples."
   ]
  },
  {
   "cell_type": "raw",
   "id": "bf3c42ea-43f5-4bbe-a385-c2bd53cd2c7b",
   "metadata": {},
   "source": [
    "Null Hypothesis is the assumption we make based on the problem statement and Alternate hypothesis is the opposite of what we assume in null hypothesis.\n",
    "Eg.\n",
    "   Null Hypothesis : Average height of students of maths class in a college is 175cm\n",
    "   Alternate HYpothesis : Average height of students of the maths class in a college is greater than 175cm."
   ]
  },
  {
   "cell_type": "markdown",
   "id": "a1f33066-f7c9-4493-b9fc-18079a1ddeb2",
   "metadata": {},
   "source": [
    "## Q7: Write down the steps involved in hypothesis testing."
   ]
  },
  {
   "cell_type": "raw",
   "id": "7e01b810-1617-47db-9349-142ad62fce95",
   "metadata": {},
   "source": [
    "Step 1: Null Hypothesis\n",
    "Step 2 : Alternate Hypothesis \n",
    "Step 3 : Creating a decision boundary based on the Significant value.\n",
    "Step 4 : Using Statistical Analysis such as Z-Test,T-test .\n",
    "Step 5 : Giving Conclusion Based on statistical analysis that whether we reject or fail to reject the null Hypothesis"
   ]
  },
  {
   "cell_type": "markdown",
   "id": "f5459471-27c7-4ae8-ae07-116297f40c4f",
   "metadata": {},
   "source": [
    "## Q8. Define p-value and explain its significance in hypothesis testing."
   ]
  },
  {
   "cell_type": "raw",
   "id": "4097a86e-0538-44c5-8c5f-36af03aefe57",
   "metadata": {},
   "source": [
    "The p value is a number calculated from a statistical test,that describes how likely you are to find a particular set of observations if the NUll Hypothesis were true.P value are used in Hypothesis testing to help decide whether to reject the Null Hypothesis."
   ]
  },
  {
   "cell_type": "markdown",
   "id": "f05e39cb-908c-4919-b985-3f9bc23e9018",
   "metadata": {},
   "source": [
    "## Q9. Generate a Student's t-distribution plot using Python's matplotlib library, with the degrees of freedom parameter set to 10."
   ]
  },
  {
   "cell_type": "code",
   "execution_count": null,
   "id": "57405732-3e29-473e-981b-c5b2092a53c7",
   "metadata": {},
   "outputs": [],
   "source": []
  },
  {
   "cell_type": "markdown",
   "id": "189e02f6-3947-4867-a660-b30df1e18015",
   "metadata": {},
   "source": [
    "## Q10. Write a Python program to calculate the two-sample t-test for independent samples, given two random samples of equal size and a null hypothesis that the population means are equal."
   ]
  },
  {
   "cell_type": "code",
   "execution_count": 6,
   "id": "f705a0f8-465f-471a-9141-5c1c78832192",
   "metadata": {},
   "outputs": [],
   "source": [
    "# samp_s - sample size\n",
    "# samp_m - sample mean\n",
    "# pop_mean - population mean\n",
    "# samp_std - Sample Standard Deviation\n",
    "import math\n",
    "def Calculate_T(samp_s,samp_m,pop_mean,samp_std):\n",
    "    t1 = (samp_m - pop_mean)/(samp_std/pow(samp_s,1/2))\n",
    "    t2 = (samp_m - pop_mean)/(samp_std/pow(samp_s,1/2))\n",
    "    return t1,t2"
   ]
  },
  {
   "cell_type": "code",
   "execution_count": 7,
   "id": "c4cfebec-2f04-4818-ba97-7d1b2aa089b7",
   "metadata": {},
   "outputs": [
    {
     "data": {
      "text/plain": [
       "(-3.06724632202893, -3.06724632202893)"
      ]
     },
     "execution_count": 7,
     "metadata": {},
     "output_type": "execute_result"
    }
   ],
   "source": [
    "Calculate_T(30,54,68,25)"
   ]
  },
  {
   "cell_type": "markdown",
   "id": "161d8566-11a6-4be3-ae30-c017f3d55bd5",
   "metadata": {},
   "source": [
    "## Q11: What is Student’s t distribution? When to use the t-Distribution."
   ]
  },
  {
   "cell_type": "raw",
   "id": "c40f053f-fc5b-4440-a01a-69421348ebd6",
   "metadata": {},
   "source": [
    "Student's t distribution is another statistical method used in hypothesis testing which is used when population mean is not given in which we find t-score to reject or not reject Null Hypothesis."
   ]
  },
  {
   "cell_type": "markdown",
   "id": "81da26c8-1668-48c6-b102-3bce485dc942",
   "metadata": {},
   "source": [
    "## Q12: What is t-statistic? State the formula for t-statistic."
   ]
  },
  {
   "cell_type": "raw",
   "id": "2a614c3f-584d-4c0d-8e35-63071f2f96cd",
   "metadata": {},
   "source": [
    "Formula : t = (x-u)/(S/n^(1/2))\n",
    "              where x = sample mean\n",
    "                    u = population mean\n",
    "                    S = Sample Standard Deviation\n",
    "                    n = Sample size"
   ]
  },
  {
   "cell_type": "markdown",
   "id": "7ea4b277-60e4-4538-ab2d-fc836252448d",
   "metadata": {},
   "source": [
    "## Q13. A coffee shop owner wants to estimate the average daily revenue for their shop. They take a random sample of 50 days and find the sample mean revenue to be $500 with a standard deviation of $50.Estimate the population mean revenue with a 95% confidence interval."
   ]
  },
  {
   "cell_type": "raw",
   "id": "f665c91b-685c-466b-9386-d51cf37c3ece",
   "metadata": {},
   "source": [
    "n = 50, sample mean = 500,sample std = 50, C.I = 0.95\n",
    "Lower C.I = 402\n",
    "Upper C.I = 598\n",
    "So,I am 95% Confident that the population mean revenue is between 402 and 598"
   ]
  },
  {
   "cell_type": "markdown",
   "id": "fd91ac5e-6cd6-4ee9-916c-95838f49e802",
   "metadata": {},
   "source": [
    "## Q14. A researcher hypothesizes that a new drug will decrease blood pressure by 10 mmHg. They conduct a clinical trial with 100 patients and find that the sample mean decrease in blood pressure is 8 mmHg with a standard deviation of 3 mmHg. Test the hypothesis with a significance level of 0.05."
   ]
  },
  {
   "cell_type": "raw",
   "id": "70beebc0-b30b-4a8d-80c6-ee615043178a",
   "metadata": {},
   "source": [
    "Null Hypothesis : The New drug will decrease the blood pressure by 10 mmHg"
   ]
  },
  {
   "cell_type": "raw",
   "id": "f9eee6ad-cc31-4b44-8b2b-6a96d5d593ef",
   "metadata": {},
   "source": [
    "Alternate Hypothesis : The New drug will decrease the blood pressure by less than 10 mmHg"
   ]
  },
  {
   "cell_type": "markdown",
   "id": "5b5a6bd7-2e4b-44fa-bc45-e92382d5e2c0",
   "metadata": {},
   "source": [
    "## Q15. An electronics company produces a certain type of product with a mean weight of 5 pounds and a standard deviation of 0.5 pounds. A random sample of 25 products is taken, and the sample mean weight is found to be 4.8 pounds. Test the hypothesis that the true mean weight of the products is less than 5 pounds with a significance level of 0.01."
   ]
  },
  {
   "cell_type": "code",
   "execution_count": null,
   "id": "f235ded1-a3d9-42a3-b5d2-a0ea6a92afdd",
   "metadata": {},
   "outputs": [],
   "source": []
  },
  {
   "cell_type": "markdown",
   "id": "ebcf59c7-363c-4712-a12b-96efd3494800",
   "metadata": {},
   "source": [
    "## Q16. Two groups of students are given different study materials to prepare for a test. The first group (n1 =30) has a mean score of 80 with a standard deviation of 10, and the second group (n2 = 40) has a mean score of 75 with a standard deviation of 8. Test the hypothesis that the population means for the two groups are equal with a significance level of 0.01."
   ]
  },
  {
   "cell_type": "code",
   "execution_count": null,
   "id": "fdc9251c-bebe-4701-af11-32a8bf632f6f",
   "metadata": {},
   "outputs": [],
   "source": []
  },
  {
   "cell_type": "markdown",
   "id": "e23863a4-02d9-4ffe-b171-318f64071ec9",
   "metadata": {},
   "source": [
    "## Q17. A marketing company wants to estimate the average number of ads watched by viewers during a TV program. They take a random sample of 50 viewers and find that the sample mean is 4 with a standard deviation of 1.5. Estimate the population mean with a 99% confidence interval."
   ]
  },
  {
   "cell_type": "code",
   "execution_count": null,
   "id": "ddefb5bf-b2b4-48b9-b3e7-ee2c7d19d047",
   "metadata": {},
   "outputs": [],
   "source": [
    "n = 50, sample mean = 4,sample std = 1.5, C.I = 0.99\n",
    "Lower C.I = 0.13\n",
    "Upper C.I = 7.87\n",
    "So,I am 99% Confident that the population mean is between 0.13 and 7.87"
   ]
  },
  {
   "cell_type": "code",
   "execution_count": null,
   "id": "e5f906eb-6dbe-45d9-8bcb-4fc69d4a6207",
   "metadata": {},
   "outputs": [],
   "source": []
  }
 ],
 "metadata": {
  "kernelspec": {
   "display_name": "Python 3 (ipykernel)",
   "language": "python",
   "name": "python3"
  },
  "language_info": {
   "codemirror_mode": {
    "name": "ipython",
    "version": 3
   },
   "file_extension": ".py",
   "mimetype": "text/x-python",
   "name": "python",
   "nbconvert_exporter": "python",
   "pygments_lexer": "ipython3",
   "version": "3.10.8"
  }
 },
 "nbformat": 4,
 "nbformat_minor": 5
}
